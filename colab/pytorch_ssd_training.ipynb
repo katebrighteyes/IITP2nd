{
  "nbformat": 4,
  "nbformat_minor": 0,
  "metadata": {
    "colab": {
      "name": "pytorch_ssd_training.ipynb",
      "private_outputs": true,
      "provenance": [],
      "collapsed_sections": []
    },
    "kernelspec": {
      "name": "python3",
      "display_name": "Python 3"
    },
    "language_info": {
      "name": "python"
    },
    "accelerator": "GPU"
  },
  "cells": [
    {
      "cell_type": "code",
      "metadata": {
        "id": "r-7I0YF9aEu5"
      },
      "source": [
        "from google.colab import drive\n",
        "\n",
        "drive.mount('/content/gdrive')"
      ],
      "execution_count": null,
      "outputs": []
    },
    {
      "cell_type": "code",
      "metadata": {
        "id": "bjmADx0Faew9"
      },
      "source": [
        "cd gdrive/MyDrive/ssd/"
      ],
      "execution_count": null,
      "outputs": []
    },
    {
      "cell_type": "code",
      "metadata": {
        "id": "C3FaASk1dKiN"
      },
      "source": [
        "pwd"
      ],
      "execution_count": null,
      "outputs": []
    },
    {
      "cell_type": "code",
      "metadata": {
        "id": "DXgLDVboaGWO"
      },
      "source": [
        "!git clone https://github.com/dusty-nv/pytorch-ssd"
      ],
      "execution_count": null,
      "outputs": []
    },
    {
      "cell_type": "code",
      "metadata": {
        "id": "_Mg8SOJae4Y6"
      },
      "source": [
        "cd pytorch-ssd/"
      ],
      "execution_count": null,
      "outputs": []
    },
    {
      "cell_type": "code",
      "metadata": {
        "id": "NlEaKSsVkxg9"
      },
      "source": [
        " !wget https://nvidia.box.com/shared/static/djf5w54rjvpqocsiztzaandq1m3avr7c.pth -O models/mobilenet-v1-ssd-mp-0_675.pth"
      ],
      "execution_count": null,
      "outputs": []
    },
    {
      "cell_type": "code",
      "metadata": {
        "id": "DB6UsTHBlE5V"
      },
      "source": [
        "!pip3 install -v -r requirements.txt"
      ],
      "execution_count": null,
      "outputs": []
    },
    {
      "cell_type": "code",
      "metadata": {
        "id": "LABZ62cbfKGp"
      },
      "source": [
        "!python3 open_images_downloader.py --max-images=2500 --class-names \"Apple,Orange,Banana,Strawberry,Grape,Pear,Pineapple,Watermelon\" --data=data/fruit"
      ],
      "execution_count": null,
      "outputs": []
    },
    {
      "cell_type": "code",
      "metadata": {
        "id": "EF_Hug-LgSYK"
      },
      "source": [
        "import torch\n",
        "print(torch.__version__)"
      ],
      "execution_count": null,
      "outputs": []
    },
    {
      "cell_type": "code",
      "metadata": {
        "id": "YpLc5kwDh7g6"
      },
      "source": [
        "!python3 train_ssd.py --data=data/fruit --model-dir=models/fruit --batch-size=16 --epochs=30"
      ],
      "execution_count": null,
      "outputs": []
    }
  ]
}